{
  "nbformat": 4,
  "nbformat_minor": 0,
  "metadata": {
    "colab": {
      "provenance": []
    },
    "kernelspec": {
      "name": "python3",
      "display_name": "Python 3"
    },
    "language_info": {
      "name": "python"
    }
  },
  "cells": [
    {
      "cell_type": "code",
      "execution_count": null,
      "metadata": {
        "colab": {
          "base_uri": "https://localhost:8080/",
          "height": 384
        },
        "id": "-E6TG75XZj-h",
        "outputId": "97e13e14-9ada-4f5f-ca71-b1697dcc3c15"
      },
      "outputs": [
        {
          "output_type": "error",
          "ename": "ModuleNotFoundError",
          "evalue": "No module named 'Robot3WD'",
          "traceback": [
            "\u001b[0;31m---------------------------------------------------------------------------\u001b[0m",
            "\u001b[0;31mModuleNotFoundError\u001b[0m                       Traceback (most recent call last)",
            "\u001b[0;32m<ipython-input-1-21355d18312d>\u001b[0m in \u001b[0;36m<cell line: 6>\u001b[0;34m()\u001b[0m\n\u001b[1;32m      4\u001b[0m \u001b[0;32mfrom\u001b[0m \u001b[0mnumpy\u001b[0m \u001b[0;32mimport\u001b[0m \u001b[0marray\u001b[0m\u001b[0;34m,\u001b[0m \u001b[0mdot\u001b[0m\u001b[0;34m\u001b[0m\u001b[0;34m\u001b[0m\u001b[0m\n\u001b[1;32m      5\u001b[0m \u001b[0;34m\u001b[0m\u001b[0m\n\u001b[0;32m----> 6\u001b[0;31m \u001b[0;32mfrom\u001b[0m \u001b[0mRobot3WD\u001b[0m\u001b[0;34m.\u001b[0m\u001b[0mRobot3WD\u001b[0m \u001b[0;32mimport\u001b[0m \u001b[0mRobot\u001b[0m\u001b[0;34m\u001b[0m\u001b[0;34m\u001b[0m\u001b[0m\n\u001b[0m\u001b[1;32m      7\u001b[0m \u001b[0;34m\u001b[0m\u001b[0m\n\u001b[1;32m      8\u001b[0m \u001b[0;32mclass\u001b[0m \u001b[0mmyRobot\u001b[0m\u001b[0;34m(\u001b[0m\u001b[0mRobot\u001b[0m\u001b[0;34m)\u001b[0m\u001b[0;34m:\u001b[0m\u001b[0;34m\u001b[0m\u001b[0;34m\u001b[0m\u001b[0m\n",
            "\u001b[0;31mModuleNotFoundError\u001b[0m: No module named 'Robot3WD'",
            "",
            "\u001b[0;31m---------------------------------------------------------------------------\u001b[0;32m\nNOTE: If your import is failing due to a missing package, you can\nmanually install dependencies using either !pip or !apt.\n\nTo view examples of installing some common dependencies, click the\n\"Open Examples\" button below.\n\u001b[0;31m---------------------------------------------------------------------------\u001b[0m\n"
          ],
          "errorDetails": {
            "actions": [
              {
                "action": "open_url",
                "actionText": "Open Examples",
                "url": "/notebooks/snippets/importing_libraries.ipynb"
              }
            ]
          }
        }
      ],
      "source": [
        "#myRobot.py (Pre-Lab, parts 2 & 3 from lab manual)\n",
        "\n",
        "from math import pi, sin, cos, sqrt, exp\n",
        "from numpy import array, dot\n",
        "\n",
        "from Robot3WD.Robot3WD import Robot\n",
        "\n",
        "class myRobot(Robot):\n",
        "    def __init__(self, sampling_period):\n",
        "        Robot.__init__(self, sampling_period)\n",
        "\n",
        "    def inverse_kinematics(self, p_dot, theta):\n",
        "        L = self._L\n",
        "        wheel_radius = self._wheel_radius\n",
        "        M = array([[sin(theta), (-1)*cos(theta), (-1)*L], [cos((pi/6)+theta), sin((pi/6)+theta), (-1)*L], [(-1)*cos((pi/6)-theta), sin((pi/6)-theta), (-1)*L]])\n",
        "        wheel_angular_velocities = (1/wheel_radius)*(dot(M, p_dot))\n",
        "        return wheel_angular_velocities\n",
        "\n",
        "    def move_left(self, v, theta):\n",
        "        p_dot = [-v, 0.0, 0.0]\n",
        "        w = self.inverse_kinematics(p_dot, theta)\n",
        "        self.set_angular_velocities(w)\n",
        "\n",
        "    def move_forward(self, v, theta):\n",
        "        p_dot = [0.0, v, 0.0]\n",
        "        w = self.inverse_kinematics(p_dot, theta)\n",
        "        self.set_angular_velocities(w)\n",
        "\n",
        "    def move_backward(self, v, theta):\n",
        "        p_dot = [0.0, -v, 0.0]\n",
        "        w = self.inverse_kinematics(p_dot, theta)\n",
        "        self.set_angular_velocities(w)\n",
        "\n",
        "    def move_right(self, v, theta):\n",
        "        p_dot = [v, 0.0, 0.0]\n",
        "        w = self.inverse_kinematics(p_dot, theta)\n",
        "        self.set_angular_velocities(w)\n",
        "\n",
        "    def rotate_CCW(self, w, theta):\n",
        "        p_dot = [0.0, 0.0, w] #<- positive since when testing on bot, with w set to negative the robot would rotate CW instead of CCW\n",
        "        w = self.inverse_kinematics(p_dot, theta)\n",
        "        self.set_angular_velocities(w)\n",
        "\n",
        "    def rotate_CW(self, w, theta):\n",
        "        p_dot = [0.0, 0.0, -w] #<- negative since when testing on bot, with w set to positive the robot would rotate CCW instead of CW\n",
        "        w = self.inverse_kinematics(p_dot, theta)\n",
        "        self.set_angular_velocities(w)"
      ]
    },
    {
      "cell_type": "code",
      "source": [
        "#lab2demo.py (lab2.py but modified according to lab manual)\n",
        "\n",
        "#from Robot3WD.Robot3WD import Robot <- Replaced according to part 4)\n",
        "from myRobot import myRobot\n",
        "import math\n",
        "import time\n",
        "\n",
        "sampling_period = 0.02\n",
        "\n",
        "run_time = 2.0\n",
        "\n",
        "w = 8.0\n",
        "\n",
        "#myrobot = Robot(sampling_period) <- Replaced according to part 4)\n",
        "myrobot = myRobot(sampling_period)\n",
        "\n",
        "theta_0 = 30.0*math.pi/180.0\n",
        "\n",
        "myrobot.initialize(theta_0)\n",
        "\n",
        "elapsed_time = 0.0\n",
        "start_time = time.time()\n",
        "\n",
        "while (elapsed_time < run_time):\n",
        "    myrobot.get_readings_update()\n",
        "    print('Moving forward')\n",
        "    theta = myrobot.orientation\n",
        "    myrobot.move_forward(0.2,theta)\n",
        "    elapsed_time = time.time() - start_time\n",
        "\n",
        "myrobot.stop()\n",
        "\n",
        "elapsed_time = 0.0\n",
        "start_time = time.time()\n",
        "\n",
        "while (elapsed_time < run_time):\n",
        "    myrobot.get_readings_update()\n",
        "    print('Moving right')\n",
        "    theta = myrobot.orientation\n",
        "    myrobot.move_right(0.2,theta)\n",
        "    elapsed_time = time.time() - start_time\n",
        "\n",
        "myrobot.stop()\n",
        "\n",
        "elapsed_time = 0.0\n",
        "start_time = time.time()\n",
        "\n",
        "while (elapsed_time < run_time):\n",
        "    myrobot.get_readings_update()\n",
        "    print('Moving backwards')\n",
        "    theta = myrobot.orientation\n",
        "    myrobot.move_backward(0.2,theta)\n",
        "    elapsed_time = time.time() - start_time\n",
        "\n",
        "myrobot.stop()\n",
        "\n",
        "elapsed_time = 0.0\n",
        "start_time = time.time()\n",
        "\n",
        "while (elapsed_time < run_time):\n",
        "    myrobot.get_readings_update()\n",
        "    print('Moving left')\n",
        "    theta = myrobot.orientation\n",
        "    myrobot.move_left(0.2,theta)\n",
        "    elapsed_time = time.time() - start_time\n",
        "\n",
        "myrobot.stop()\n",
        "\n",
        "elapsed_time = 0.0\n",
        "start_time = time.time()\n",
        "\n",
        "while (elapsed_time < run_time):\n",
        "    myrobot.get_readings_update()\n",
        "    print('Rotating CCW')\n",
        "    theta = myrobot.orientation\n",
        "    myrobot.rotate_CCW(2,theta)\n",
        "    elapsed_time = time.time() - start_time\n",
        "\n",
        "myrobot.stop()\n",
        "\n",
        "elapsed_time = 0.0\n",
        "start_time = time.time()\n",
        "\n",
        "while (elapsed_time < run_time):\n",
        "    myrobot.get_readings_update()\n",
        "    print('Rotating CW')\n",
        "    theta = myrobot.orientation\n",
        "    myrobot.rotate_CW(2,theta)\n",
        "    elapsed_time = time.time() - start_time\n",
        "\n",
        "myrobot.stop()\n",
        "myrobot.close()"
      ],
      "metadata": {
        "id": "sMyXQdejZwJV",
        "colab": {
          "base_uri": "https://localhost:8080/",
          "height": 384
        },
        "outputId": "551f16ab-cf1d-4d27-db9b-26aca1736828"
      },
      "execution_count": null,
      "outputs": [
        {
          "output_type": "error",
          "ename": "ModuleNotFoundError",
          "evalue": "No module named 'myRobot'",
          "traceback": [
            "\u001b[0;31m---------------------------------------------------------------------------\u001b[0m",
            "\u001b[0;31mModuleNotFoundError\u001b[0m                       Traceback (most recent call last)",
            "\u001b[0;32m<ipython-input-1-8d36815b6d10>\u001b[0m in \u001b[0;36m<cell line: 4>\u001b[0;34m()\u001b[0m\n\u001b[1;32m      2\u001b[0m \u001b[0;34m\u001b[0m\u001b[0m\n\u001b[1;32m      3\u001b[0m \u001b[0;31m#from Robot3WD.Robot3WD import Robot <- Replaced according to part 4)\u001b[0m\u001b[0;34m\u001b[0m\u001b[0;34m\u001b[0m\u001b[0m\n\u001b[0;32m----> 4\u001b[0;31m \u001b[0;32mfrom\u001b[0m \u001b[0mmyRobot\u001b[0m \u001b[0;32mimport\u001b[0m \u001b[0mmyRobot\u001b[0m\u001b[0;34m\u001b[0m\u001b[0;34m\u001b[0m\u001b[0m\n\u001b[0m\u001b[1;32m      5\u001b[0m \u001b[0;32mimport\u001b[0m \u001b[0mmath\u001b[0m\u001b[0;34m\u001b[0m\u001b[0;34m\u001b[0m\u001b[0m\n\u001b[1;32m      6\u001b[0m \u001b[0;32mimport\u001b[0m \u001b[0mtime\u001b[0m\u001b[0;34m\u001b[0m\u001b[0;34m\u001b[0m\u001b[0m\n",
            "\u001b[0;31mModuleNotFoundError\u001b[0m: No module named 'myRobot'",
            "",
            "\u001b[0;31m---------------------------------------------------------------------------\u001b[0;32m\nNOTE: If your import is failing due to a missing package, you can\nmanually install dependencies using either !pip or !apt.\n\nTo view examples of installing some common dependencies, click the\n\"Open Examples\" button below.\n\u001b[0;31m---------------------------------------------------------------------------\u001b[0m\n"
          ],
          "errorDetails": {
            "actions": [
              {
                "action": "open_url",
                "actionText": "Open Examples",
                "url": "/notebooks/snippets/importing_libraries.ipynb"
              }
            ]
          }
        }
      ]
    }
  ]
}